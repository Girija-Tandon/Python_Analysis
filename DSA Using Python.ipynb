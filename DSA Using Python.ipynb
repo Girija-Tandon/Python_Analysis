{
  "cells": [
    {
      "cell_type": "markdown",
      "metadata": {
        "id": "view-in-github",
        "colab_type": "text"
      },
      "source": [
        "<a href=\"https://colab.research.google.com/github/Girija-Tandon/Python_Analysis/blob/main/DSA%20Using%20Python.ipynb\" target=\"_parent\"><img src=\"https://colab.research.google.com/assets/colab-badge.svg\" alt=\"Open In Colab\"/></a>"
      ]
    },
    {
      "cell_type": "code",
      "source": [
        "import time\n",
        "start = time.time()\n",
        "for i in range(1,13):\n",
        "  print(i)\n",
        "print(time.time() - start)"
      ],
      "metadata": {
        "id": "WcnB1OjFiXaK",
        "outputId": "b7eadd62-aea5-4f5c-e975-71c38c4bc233",
        "colab": {
          "base_uri": "https://localhost:8080/"
        }
      },
      "execution_count": null,
      "outputs": [
        {
          "output_type": "stream",
          "name": "stdout",
          "text": [
            "1\n",
            "2\n",
            "3\n",
            "4\n",
            "5\n",
            "6\n",
            "7\n",
            "8\n",
            "9\n",
            "10\n",
            "11\n",
            "12\n",
            "0.0012557506561279297\n"
          ]
        }
      ]
    },
    {
      "cell_type": "code",
      "source": [
        "import time\n",
        "start = time.time()\n",
        "i = 1\n",
        "while i < 13:\n",
        "  print(i)\n",
        "  i += 1\n",
        "print(time.time() - start)"
      ],
      "metadata": {
        "id": "PGo_hhipiXWp",
        "outputId": "5f6df3a4-4f63-47f5-8504-865564f90823",
        "colab": {
          "base_uri": "https://localhost:8080/"
        }
      },
      "execution_count": null,
      "outputs": [
        {
          "output_type": "stream",
          "name": "stdout",
          "text": [
            "1\n",
            "2\n",
            "3\n",
            "4\n",
            "5\n",
            "6\n",
            "7\n",
            "8\n",
            "9\n",
            "10\n",
            "11\n",
            "12\n",
            "0.0009517669677734375\n"
          ]
        }
      ]
    },
    {
      "cell_type": "code",
      "source": [
        "round(0.0012557506561279297 - 0.0009517669677734375 , 6)\n",
        "\n"
      ],
      "metadata": {
        "id": "XyaofVWViXUV",
        "outputId": "04a83a49-d376-4e19-be4b-a80101b1b984",
        "colab": {
          "base_uri": "https://localhost:8080/"
        }
      },
      "execution_count": null,
      "outputs": [
        {
          "output_type": "execute_result",
          "data": {
            "text/plain": [
              "0.000304"
            ]
          },
          "metadata": {},
          "execution_count": 7
        }
      ]
    },
    {
      "cell_type": "code",
      "source": [
        "l =[1,2,3,4,5]\n",
        "for i in l:\n",
        "  for j in l:\n",
        "    print('({},{})'.format(i,j))"
      ],
      "metadata": {
        "id": "Y1misYO6iXSC",
        "outputId": "0930ad4d-5168-456e-ab91-48894eaf097e",
        "colab": {
          "base_uri": "https://localhost:8080/"
        }
      },
      "execution_count": null,
      "outputs": [
        {
          "output_type": "stream",
          "name": "stdout",
          "text": [
            "(1,1)\n",
            "(1,2)\n",
            "(1,3)\n",
            "(1,4)\n",
            "(1,5)\n",
            "(2,1)\n",
            "(2,2)\n",
            "(2,3)\n",
            "(2,4)\n",
            "(2,5)\n",
            "(3,1)\n",
            "(3,2)\n",
            "(3,3)\n",
            "(3,4)\n",
            "(3,5)\n",
            "(4,1)\n",
            "(4,2)\n",
            "(4,3)\n",
            "(4,4)\n",
            "(4,5)\n",
            "(5,1)\n",
            "(5,2)\n",
            "(5,3)\n",
            "(5,4)\n",
            "(5,5)\n"
          ]
        }
      ]
    },
    {
      "cell_type": "code",
      "source": [
        "#Logarithmic\n",
        "def intTostr():\n",
        "  digits = '01234567890'\n",
        "  if i == 0:\n",
        "    return 0\n",
        "  result = ''\n",
        "  while i > 0:\n",
        "    result = digits[i % 10] + result\n",
        "    i = i // 10\n",
        "  return result\n",
        "\n",
        "  print(intTostr(456))"
      ],
      "metadata": {
        "id": "DRddrtpPiXPd"
      },
      "execution_count": null,
      "outputs": []
    },
    {
      "cell_type": "code",
      "source": [
        "#Quadratic\n",
        "l =[1,2,3,4,5]\n",
        "for i in range(0,len(l)):\n",
        "  for j in range(i+1,len(l)):\n",
        "    print('({},{})'.format(i,j))"
      ],
      "metadata": {
        "id": "_x4De_geiXMt",
        "outputId": "629823e5-c5fa-4d73-d6c6-954cb3016ae7",
        "colab": {
          "base_uri": "https://localhost:8080/"
        }
      },
      "execution_count": null,
      "outputs": [
        {
          "output_type": "stream",
          "name": "stdout",
          "text": [
            "(0,1)\n",
            "(0,2)\n",
            "(0,3)\n",
            "(0,4)\n",
            "(1,2)\n",
            "(1,3)\n",
            "(1,4)\n",
            "(2,3)\n",
            "(2,4)\n",
            "(3,4)\n"
          ]
        }
      ]
    },
    {
      "cell_type": "code",
      "source": [
        "#O(n)\n",
        "l =[1,2,3,4,5]\n",
        "for i in range(0,len(l)//2):\n",
        "  other = len(l) - i-1\n",
        "  temp = l[i]\n",
        "  l[i] = l[other]\n",
        "  l[other] = temp\n",
        "print(l)\n",
        "\n"
      ],
      "metadata": {
        "id": "rWTIjhGviXKT"
      },
      "execution_count": null,
      "outputs": []
    },
    {
      "cell_type": "code",
      "source": [
        "#recursion  linear(O(n))\n",
        "def factorial(n):\n",
        "  if n == 1:\n",
        "    return 1\n",
        "  else:\n",
        "    return n * factorial(n-1)\n",
        "print(factorial(6))"
      ],
      "metadata": {
        "id": "99_ZNP6QiXH8",
        "outputId": "bada0cf2-c5a3-4efe-8772-92343566436c",
        "colab": {
          "base_uri": "https://localhost:8080/"
        }
      },
      "execution_count": null,
      "outputs": [
        {
          "output_type": "stream",
          "name": "stdout",
          "text": [
            "720\n"
          ]
        }
      ]
    },
    {
      "cell_type": "code",
      "source": [
        "# Time Complexity:\n",
        "#Exponential Time → O(2ⁿ)\n",
        "def fib(n):\n",
        "  if n == 1 or n == 0:\n",
        "    return 1\n",
        "  else:\n",
        "    return  fib(n-1) + fib(n-2)\n",
        "print(fib(5))"
      ],
      "metadata": {
        "id": "5yZhOQ1_iXFa"
      },
      "execution_count": null,
      "outputs": []
    },
    {
      "cell_type": "code",
      "source": [
        "def power(num):\n",
        "  if num < 1:\n",
        "    return 1\n",
        "  elif num == 1:\n",
        "    print(1)\n",
        "    return 1\n",
        "  else:\n",
        "    prev = power(num//2)\n",
        "    curr = prev*2\n",
        "    print(curr)\n",
        "    return curr\n",
        "print(power(9))\n"
      ],
      "metadata": {
        "id": "kFIdfL7QRtlB",
        "outputId": "2f8c468c-d42f-4cdd-e91d-8991c71d3729",
        "colab": {
          "base_uri": "https://localhost:8080/"
        }
      },
      "execution_count": null,
      "outputs": [
        {
          "output_type": "stream",
          "name": "stdout",
          "text": [
            "1\n",
            "2\n",
            "4\n",
            "8\n",
            "8\n"
          ]
        }
      ]
    },
    {
      "cell_type": "code",
      "source": [
        "def mod(a,b):\n",
        "  if b <= 0:\n",
        "    return -1\n",
        "  div  = a//b\n",
        "  return a - div * b\n",
        "print(mod(10,4))"
      ],
      "metadata": {
        "id": "PA6Xokjbz1BE",
        "outputId": "ccf2ca6c-794a-4d12-aa5b-7918be2186ef",
        "colab": {
          "base_uri": "https://localhost:8080/"
        }
      },
      "execution_count": null,
      "outputs": [
        {
          "output_type": "stream",
          "name": "stdout",
          "text": [
            "2\n"
          ]
        }
      ]
    },
    {
      "cell_type": "code",
      "source": [
        "def sum_digit(num):\n",
        "  sum = 0\n",
        "  while (num > 0):\n",
        "    sum += num%10\n",
        "    num/= 10\n",
        "  return sum\n",
        "print(sum_digit(345))"
      ],
      "metadata": {
        "id": "xWjXvu7_1IQP",
        "outputId": "fac79761-96c2-4e7b-a1da-d22e8ffd3792",
        "colab": {
          "base_uri": "https://localhost:8080/"
        }
      },
      "execution_count": null,
      "outputs": [
        {
          "output_type": "stream",
          "name": "stdout",
          "text": [
            "13.33333333333333\n"
          ]
        }
      ]
    },
    {
      "cell_type": "code",
      "source": [
        "def power_set(nums):\n",
        "  result = [[]]\n",
        "  for num in nums:\n",
        "    new_subsets = []\n",
        "    for subsets in result:\n",
        "      new_subsets.append(subsets + [num])\n",
        "    result.extend(new_subsets)\n",
        "  return result\n",
        "nums = [2,3,4]\n",
        "print(power_set(nums))"
      ],
      "metadata": {
        "id": "Zad32Fb71IM4",
        "outputId": "d9daa937-727c-450d-e073-60fd602b58fb",
        "colab": {
          "base_uri": "https://localhost:8080/"
        }
      },
      "execution_count": null,
      "outputs": [
        {
          "output_type": "stream",
          "name": "stdout",
          "text": [
            "[[], [2], [3], [2, 3], [4], [2, 4], [3, 4], [2, 3, 4]]\n"
          ]
        }
      ]
    },
    {
      "cell_type": "code",
      "source": [
        "#Dynamic Array\n",
        "import ctypes\n",
        "class mylist:\n",
        "  def __init__(self):\n",
        "    self.size=1\n",
        "    self.n=0\n",
        "     # create a C type array with size self.size\n",
        "    self.A = self.__make_array(self.size)\n",
        "\n",
        "  def __len__(self):\n",
        "    return self.n\n",
        "\n",
        "  def __getitem__(self,index):\n",
        "    if 0 <= index < self.n:\n",
        "      return self.A[index]\n",
        "    else:\n",
        "      raise IndexError('not in range')\n",
        "\n",
        "\n",
        "  def __str__(self):\n",
        "    result = ''\n",
        "    for i in range(self.n):\n",
        "      result = result + str(self.A[i]) + ','\n",
        "\n",
        "    return '[' + result[:-1] + ']'\n",
        "\n",
        "  def append(self,item):\n",
        "    if self.size == self.n:\n",
        "      #resize\n",
        "      self.__resize(self.size*2)\n",
        "    #append\n",
        "    self.A[self.n] = item\n",
        "    self.n = self.n + 1\n",
        "#Pop last item from List(A[i])\n",
        "  def pop(self):\n",
        "    if self.n == 0:\n",
        "      return 'Empty List'\n",
        "    else:\n",
        "      print(self.A[self.n - 1])\n",
        "      self.n = self.n - 1\n",
        "\n",
        "  def clear(self):\n",
        "    self.n = 0\n",
        "    self.size = 1\n",
        "\n",
        "# find item from the list\n",
        "  def find(self,item):\n",
        "    for i in range(self.n):\n",
        "      if self.A[i] == item:\n",
        "        return i\n",
        "    raise Error('item not found')\n",
        "\n",
        "  # insert item in the list\n",
        "  def insert( self, pos,item):\n",
        "    if self.n == self.size:\n",
        "      self.__resize(self.size*2)\n",
        "\n",
        "    for i in range(self.n,pos,-1):\n",
        "      self.A[i] = self.A[i - 1]\n",
        "\n",
        "    self.A[pos] =item\n",
        "    self.n = self.n + 1\n",
        "# delete item from the lsit\n",
        "  def __delitem__(self,pos):\n",
        "    if pos >= 0 and pos < self.n:\n",
        "      for i in range(pos, self.n - 1):\n",
        "        self.A[i] = self.A[i + 1]\n",
        "      self.n = self.n - 1\n",
        "    else:\n",
        "      raise Error('index is not found')\n",
        "\n",
        "  # remove item from the list\n",
        "  def remove(self,item):\n",
        "    pos = self.find(item)\n",
        "    if type(pos) == int:\n",
        "    #delete\n",
        "     self.__delitem__(pos)\n",
        "    else:\n",
        "      return pos\n",
        "\n",
        "\n",
        "\n",
        "  def __resize(self,new_capacity):\n",
        "    # create a new array with new capacity\n",
        "    B = self.__make_array(new_capacity)\n",
        "    self.size = new_capacity\n",
        "    #copy the content of A to B\n",
        "    for i in range(self.n):\n",
        "      B[i] = self.A[i]\n",
        "    # reassign A\n",
        "    self.A = B\n",
        "\n",
        "  def __make_array(size,capacity):\n",
        "    # create a C type array (static,referentail) with size capacity\n",
        "    return (capacity * ctypes.py_object)()\n"
      ],
      "metadata": {
        "id": "A4-3eucU1IK7"
      },
      "execution_count": 59,
      "outputs": []
    },
    {
      "cell_type": "code",
      "source": [
        "L = mylist()"
      ],
      "metadata": {
        "id": "9S_BWtl41IIV"
      },
      "execution_count": 61,
      "outputs": []
    },
    {
      "cell_type": "code",
      "source": [
        "print(L)"
      ],
      "metadata": {
        "id": "P-0fdsil1IFj",
        "outputId": "7a2bdc7f-5e62-4983-db6d-03bf6de4bb9d",
        "colab": {
          "base_uri": "https://localhost:8080/"
        }
      },
      "execution_count": null,
      "outputs": [
        {
          "output_type": "stream",
          "name": "stdout",
          "text": [
            "[]\n"
          ]
        }
      ]
    },
    {
      "cell_type": "code",
      "source": [
        "L.append('hello')\n",
        "L.append(8)\n",
        "L.append(90)\n",
        "L.append('kabira')\n",
        "L.append('world')"
      ],
      "metadata": {
        "id": "UCxO4vNLI1R8"
      },
      "execution_count": 62,
      "outputs": []
    },
    {
      "cell_type": "code",
      "source": [
        "len(L)"
      ],
      "metadata": {
        "id": "U1gTFJM5wahf",
        "outputId": "a0b707e4-d6b7-418d-9800-5a67c2f43df2",
        "colab": {
          "base_uri": "https://localhost:8080/"
        }
      },
      "execution_count": 23,
      "outputs": [
        {
          "output_type": "execute_result",
          "data": {
            "text/plain": [
              "5"
            ]
          },
          "metadata": {},
          "execution_count": 23
        }
      ]
    },
    {
      "cell_type": "code",
      "source": [
        "print(L)"
      ],
      "metadata": {
        "id": "5MAVHiFB2HI0",
        "outputId": "7bc75257-c462-419d-95f2-5deb27d2f32a",
        "colab": {
          "base_uri": "https://localhost:8080/"
        }
      },
      "execution_count": 63,
      "outputs": [
        {
          "output_type": "stream",
          "name": "stdout",
          "text": [
            "[hello,8,90,kabira,world]\n"
          ]
        }
      ]
    },
    {
      "cell_type": "code",
      "source": [
        "L[2]"
      ],
      "metadata": {
        "id": "jmAih4Nv2HFd",
        "outputId": "e35c7bef-50ec-46ff-d1b2-ee66273f5c1b",
        "colab": {
          "base_uri": "https://localhost:8080/"
        }
      },
      "execution_count": null,
      "outputs": [
        {
          "output_type": "execute_result",
          "data": {
            "text/plain": [
              "90"
            ]
          },
          "metadata": {},
          "execution_count": 67
        }
      ]
    },
    {
      "cell_type": "code",
      "source": [
        "L.pop()"
      ],
      "metadata": {
        "id": "pt2sXpgI2HAx",
        "outputId": "89af925c-a085-46b6-e5bb-457c1ff71f3f",
        "colab": {
          "base_uri": "https://localhost:8080/"
        }
      },
      "execution_count": null,
      "outputs": [
        {
          "output_type": "stream",
          "name": "stdout",
          "text": [
            "hello\n"
          ]
        }
      ]
    },
    {
      "cell_type": "code",
      "source": [
        "print(L)"
      ],
      "metadata": {
        "id": "2ppvQdhJ2G-P",
        "outputId": "3f10503d-de93-448c-bc3f-e7c6b4581e58",
        "colab": {
          "base_uri": "https://localhost:8080/"
        }
      },
      "execution_count": null,
      "outputs": [
        {
          "output_type": "stream",
          "name": "stdout",
          "text": [
            "[hello,8,90,kabira,world]\n"
          ]
        }
      ]
    },
    {
      "cell_type": "code",
      "source": [
        "L.clear()"
      ],
      "metadata": {
        "id": "p5zG4WAm2G6N"
      },
      "execution_count": null,
      "outputs": []
    },
    {
      "cell_type": "code",
      "source": [
        "print(L)"
      ],
      "metadata": {
        "id": "2dbSETYHA0FU",
        "outputId": "b41c16c3-0345-42cd-efc6-a3d9173d3498",
        "colab": {
          "base_uri": "https://localhost:8080/"
        }
      },
      "execution_count": null,
      "outputs": [
        {
          "output_type": "stream",
          "name": "stdout",
          "text": [
            "[]\n"
          ]
        }
      ]
    },
    {
      "cell_type": "code",
      "source": [
        "L.find('world')"
      ],
      "metadata": {
        "id": "axAFeizKMW7C",
        "outputId": "54c50074-edc6-46a2-b0cc-e03800e6523e",
        "colab": {
          "base_uri": "https://localhost:8080/"
        }
      },
      "execution_count": null,
      "outputs": [
        {
          "output_type": "execute_result",
          "data": {
            "text/plain": [
              "4"
            ]
          },
          "metadata": {},
          "execution_count": 113
        }
      ]
    },
    {
      "cell_type": "code",
      "source": [
        "L.insert(3,'hi')\n",
        "L"
      ],
      "metadata": {
        "id": "Irgcc5aSMW3t",
        "outputId": "fc2652f2-4d41-472a-a31a-4d147321a7ac",
        "colab": {
          "base_uri": "https://localhost:8080/"
        }
      },
      "execution_count": 26,
      "outputs": [
        {
          "output_type": "execute_result",
          "data": {
            "text/plain": [
              "<__main__.mylist at 0x7ad61a603610>"
            ]
          },
          "metadata": {},
          "execution_count": 26
        }
      ]
    },
    {
      "cell_type": "code",
      "source": [
        "print(L)"
      ],
      "metadata": {
        "id": "HEWrtj7AMW1t",
        "outputId": "d7192074-0f9e-41b6-b76b-81dc4565432f",
        "colab": {
          "base_uri": "https://localhost:8080/"
        }
      },
      "execution_count": 67,
      "outputs": [
        {
          "output_type": "stream",
          "name": "stdout",
          "text": [
            "[hello,8,kabira]\n"
          ]
        }
      ]
    },
    {
      "cell_type": "code",
      "source": [
        "del L[3]"
      ],
      "metadata": {
        "id": "DeQ9X-QoMWz0"
      },
      "execution_count": 52,
      "outputs": []
    },
    {
      "cell_type": "code",
      "source": [
        "L.remove('world')"
      ],
      "metadata": {
        "id": "CFlZM2M1MWxY"
      },
      "execution_count": 66,
      "outputs": []
    },
    {
      "cell_type": "code",
      "source": [
        "#sum/min/max/sort\n",
        "#extend/negative indexing\n",
        "#slicing / merge"
      ],
      "metadata": {
        "id": "vJ3yqXzNMWu8"
      },
      "execution_count": null,
      "outputs": []
    },
    {
      "cell_type": "code",
      "source": [],
      "metadata": {
        "id": "TRKevdTxMWsZ"
      },
      "execution_count": null,
      "outputs": []
    }
  ],
  "metadata": {
    "colab": {
      "name": "Welcome To Colab",
      "toc_visible": true,
      "provenance": [],
      "include_colab_link": true
    },
    "kernelspec": {
      "display_name": "Python 3",
      "name": "python3"
    }
  },
  "nbformat": 4,
  "nbformat_minor": 0
}