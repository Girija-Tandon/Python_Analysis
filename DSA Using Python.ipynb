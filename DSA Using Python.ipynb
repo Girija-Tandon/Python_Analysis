{
  "cells": [
    {
      "cell_type": "markdown",
      "metadata": {
        "id": "view-in-github",
        "colab_type": "text"
      },
      "source": [
        "<a href=\"https://colab.research.google.com/github/Girija-Tandon/Python_Analysis/blob/main/DSA%20Using%20Python.ipynb\" target=\"_parent\"><img src=\"https://colab.research.google.com/assets/colab-badge.svg\" alt=\"Open In Colab\"/></a>"
      ]
    },
    {
      "cell_type": "code",
      "source": [
        "import time\n",
        "start = time.time()\n",
        "for i in range(1,13):\n",
        "  print(i)\n",
        "print(time.time() - start)"
      ],
      "metadata": {
        "id": "WcnB1OjFiXaK",
        "outputId": "b7eadd62-aea5-4f5c-e975-71c38c4bc233",
        "colab": {
          "base_uri": "https://localhost:8080/"
        }
      },
      "execution_count": 2,
      "outputs": [
        {
          "output_type": "stream",
          "name": "stdout",
          "text": [
            "1\n",
            "2\n",
            "3\n",
            "4\n",
            "5\n",
            "6\n",
            "7\n",
            "8\n",
            "9\n",
            "10\n",
            "11\n",
            "12\n",
            "0.0012557506561279297\n"
          ]
        }
      ]
    },
    {
      "cell_type": "code",
      "source": [
        "import time\n",
        "start = time.time()\n",
        "i = 1\n",
        "while i < 13:\n",
        "  print(i)\n",
        "  i += 1\n",
        "print(time.time() - start)"
      ],
      "metadata": {
        "id": "PGo_hhipiXWp",
        "outputId": "5f6df3a4-4f63-47f5-8504-865564f90823",
        "colab": {
          "base_uri": "https://localhost:8080/"
        }
      },
      "execution_count": 3,
      "outputs": [
        {
          "output_type": "stream",
          "name": "stdout",
          "text": [
            "1\n",
            "2\n",
            "3\n",
            "4\n",
            "5\n",
            "6\n",
            "7\n",
            "8\n",
            "9\n",
            "10\n",
            "11\n",
            "12\n",
            "0.0009517669677734375\n"
          ]
        }
      ]
    },
    {
      "cell_type": "code",
      "source": [
        "round(0.0012557506561279297 - 0.0009517669677734375 , 6)\n",
        "\n"
      ],
      "metadata": {
        "id": "XyaofVWViXUV",
        "outputId": "04a83a49-d376-4e19-be4b-a80101b1b984",
        "colab": {
          "base_uri": "https://localhost:8080/"
        }
      },
      "execution_count": 7,
      "outputs": [
        {
          "output_type": "execute_result",
          "data": {
            "text/plain": [
              "0.000304"
            ]
          },
          "metadata": {},
          "execution_count": 7
        }
      ]
    },
    {
      "cell_type": "code",
      "source": [
        "l =[1,2,3,4,5]\n",
        "for i in l:\n",
        "  for j in l:\n",
        "    print('({},{})'.format(i,j))"
      ],
      "metadata": {
        "id": "Y1misYO6iXSC",
        "outputId": "0930ad4d-5168-456e-ab91-48894eaf097e",
        "colab": {
          "base_uri": "https://localhost:8080/"
        }
      },
      "execution_count": 9,
      "outputs": [
        {
          "output_type": "stream",
          "name": "stdout",
          "text": [
            "(1,1)\n",
            "(1,2)\n",
            "(1,3)\n",
            "(1,4)\n",
            "(1,5)\n",
            "(2,1)\n",
            "(2,2)\n",
            "(2,3)\n",
            "(2,4)\n",
            "(2,5)\n",
            "(3,1)\n",
            "(3,2)\n",
            "(3,3)\n",
            "(3,4)\n",
            "(3,5)\n",
            "(4,1)\n",
            "(4,2)\n",
            "(4,3)\n",
            "(4,4)\n",
            "(4,5)\n",
            "(5,1)\n",
            "(5,2)\n",
            "(5,3)\n",
            "(5,4)\n",
            "(5,5)\n"
          ]
        }
      ]
    },
    {
      "cell_type": "code",
      "source": [],
      "metadata": {
        "id": "DRddrtpPiXPd"
      },
      "execution_count": null,
      "outputs": []
    },
    {
      "cell_type": "code",
      "source": [],
      "metadata": {
        "id": "_x4De_geiXMt"
      },
      "execution_count": null,
      "outputs": []
    },
    {
      "cell_type": "code",
      "source": [],
      "metadata": {
        "id": "rWTIjhGviXKT"
      },
      "execution_count": null,
      "outputs": []
    },
    {
      "cell_type": "code",
      "source": [],
      "metadata": {
        "id": "99_ZNP6QiXH8"
      },
      "execution_count": null,
      "outputs": []
    },
    {
      "cell_type": "code",
      "source": [],
      "metadata": {
        "id": "5yZhOQ1_iXFa"
      },
      "execution_count": null,
      "outputs": []
    }
  ],
  "metadata": {
    "colab": {
      "name": "Welcome To Colab",
      "toc_visible": true,
      "provenance": [],
      "include_colab_link": true
    },
    "kernelspec": {
      "display_name": "Python 3",
      "name": "python3"
    }
  },
  "nbformat": 4,
  "nbformat_minor": 0
}