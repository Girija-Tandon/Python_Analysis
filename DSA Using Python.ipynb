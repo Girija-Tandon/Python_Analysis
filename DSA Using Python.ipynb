{
  "cells": [
    {
      "cell_type": "markdown",
      "metadata": {
        "id": "view-in-github",
        "colab_type": "text"
      },
      "source": [
        "<a href=\"https://colab.research.google.com/github/Girija-Tandon/Python_Analysis/blob/main/DSA%20Using%20Python.ipynb\" target=\"_parent\"><img src=\"https://colab.research.google.com/assets/colab-badge.svg\" alt=\"Open In Colab\"/></a>"
      ]
    },
    {
      "cell_type": "code",
      "source": [
        "import time\n",
        "start = time.time()\n",
        "for i in range(1,13):\n",
        "  print(i)\n",
        "print(time.time() - start)"
      ],
      "metadata": {
        "id": "WcnB1OjFiXaK",
        "outputId": "b7eadd62-aea5-4f5c-e975-71c38c4bc233",
        "colab": {
          "base_uri": "https://localhost:8080/"
        }
      },
      "execution_count": null,
      "outputs": [
        {
          "output_type": "stream",
          "name": "stdout",
          "text": [
            "1\n",
            "2\n",
            "3\n",
            "4\n",
            "5\n",
            "6\n",
            "7\n",
            "8\n",
            "9\n",
            "10\n",
            "11\n",
            "12\n",
            "0.0012557506561279297\n"
          ]
        }
      ]
    },
    {
      "cell_type": "code",
      "source": [
        "import time\n",
        "start = time.time()\n",
        "i = 1\n",
        "while i < 13:\n",
        "  print(i)\n",
        "  i += 1\n",
        "print(time.time() - start)"
      ],
      "metadata": {
        "id": "PGo_hhipiXWp",
        "outputId": "5f6df3a4-4f63-47f5-8504-865564f90823",
        "colab": {
          "base_uri": "https://localhost:8080/"
        }
      },
      "execution_count": null,
      "outputs": [
        {
          "output_type": "stream",
          "name": "stdout",
          "text": [
            "1\n",
            "2\n",
            "3\n",
            "4\n",
            "5\n",
            "6\n",
            "7\n",
            "8\n",
            "9\n",
            "10\n",
            "11\n",
            "12\n",
            "0.0009517669677734375\n"
          ]
        }
      ]
    },
    {
      "cell_type": "code",
      "source": [
        "round(0.0012557506561279297 - 0.0009517669677734375 , 6)\n",
        "\n"
      ],
      "metadata": {
        "id": "XyaofVWViXUV",
        "outputId": "04a83a49-d376-4e19-be4b-a80101b1b984",
        "colab": {
          "base_uri": "https://localhost:8080/"
        }
      },
      "execution_count": null,
      "outputs": [
        {
          "output_type": "execute_result",
          "data": {
            "text/plain": [
              "0.000304"
            ]
          },
          "metadata": {},
          "execution_count": 7
        }
      ]
    },
    {
      "cell_type": "code",
      "source": [
        "l =[1,2,3,4,5]\n",
        "for i in l:\n",
        "  for j in l:\n",
        "    print('({},{})'.format(i,j))"
      ],
      "metadata": {
        "id": "Y1misYO6iXSC",
        "outputId": "0930ad4d-5168-456e-ab91-48894eaf097e",
        "colab": {
          "base_uri": "https://localhost:8080/"
        }
      },
      "execution_count": null,
      "outputs": [
        {
          "output_type": "stream",
          "name": "stdout",
          "text": [
            "(1,1)\n",
            "(1,2)\n",
            "(1,3)\n",
            "(1,4)\n",
            "(1,5)\n",
            "(2,1)\n",
            "(2,2)\n",
            "(2,3)\n",
            "(2,4)\n",
            "(2,5)\n",
            "(3,1)\n",
            "(3,2)\n",
            "(3,3)\n",
            "(3,4)\n",
            "(3,5)\n",
            "(4,1)\n",
            "(4,2)\n",
            "(4,3)\n",
            "(4,4)\n",
            "(4,5)\n",
            "(5,1)\n",
            "(5,2)\n",
            "(5,3)\n",
            "(5,4)\n",
            "(5,5)\n"
          ]
        }
      ]
    },
    {
      "cell_type": "code",
      "source": [
        "#Logarithmic\n",
        "def intTostr():\n",
        "  digits = '01234567890'\n",
        "  if i == 0:\n",
        "    return 0\n",
        "  result = ''\n",
        "  while i > 0:\n",
        "    result = digits[i % 10] + result\n",
        "    i = i // 10\n",
        "  return result\n",
        "\n",
        "  print(intTostr(456))"
      ],
      "metadata": {
        "id": "DRddrtpPiXPd"
      },
      "execution_count": 1,
      "outputs": []
    },
    {
      "cell_type": "code",
      "source": [
        "#Quadratic\n",
        "l =[1,2,3,4,5]\n",
        "for i in range(0,len(l)):\n",
        "  for j in range(i+1,len(l)):\n",
        "    print('({},{})'.format(i,j))"
      ],
      "metadata": {
        "id": "_x4De_geiXMt",
        "outputId": "629823e5-c5fa-4d73-d6c6-954cb3016ae7",
        "colab": {
          "base_uri": "https://localhost:8080/"
        }
      },
      "execution_count": 2,
      "outputs": [
        {
          "output_type": "stream",
          "name": "stdout",
          "text": [
            "(0,1)\n",
            "(0,2)\n",
            "(0,3)\n",
            "(0,4)\n",
            "(1,2)\n",
            "(1,3)\n",
            "(1,4)\n",
            "(2,3)\n",
            "(2,4)\n",
            "(3,4)\n"
          ]
        }
      ]
    },
    {
      "cell_type": "code",
      "source": [
        "#O(n)\n",
        "l =[1,2,3,4,5]\n",
        "for i in range(0,len(l)//2):\n",
        "  other = len(l) - i-1\n",
        "  temp = l[i]\n",
        "  l[i] = l[other]\n",
        "  l[other] = temp\n",
        "print(l)\n",
        "\n"
      ],
      "metadata": {
        "id": "rWTIjhGviXKT"
      },
      "execution_count": null,
      "outputs": []
    },
    {
      "cell_type": "code",
      "source": [
        "#recursion  linear(O(n))\n",
        "def factorial(n):\n",
        "  if n == 1:\n",
        "    return 1\n",
        "  else:\n",
        "    return n * factorial(n-1)\n",
        "print(factorial(6))"
      ],
      "metadata": {
        "id": "99_ZNP6QiXH8",
        "outputId": "bada0cf2-c5a3-4efe-8772-92343566436c",
        "colab": {
          "base_uri": "https://localhost:8080/"
        }
      },
      "execution_count": 3,
      "outputs": [
        {
          "output_type": "stream",
          "name": "stdout",
          "text": [
            "720\n"
          ]
        }
      ]
    },
    {
      "cell_type": "code",
      "source": [
        "# Time Complexity:\n",
        "#Exponential Time → O(2ⁿ)\n",
        "def fib(n):\n",
        "  if n == 1 or n == 0:\n",
        "    return 1\n",
        "  else:\n",
        "    return  fib(n-1) + fib(n-2)\n",
        "print(fib(5))"
      ],
      "metadata": {
        "id": "5yZhOQ1_iXFa"
      },
      "execution_count": null,
      "outputs": []
    },
    {
      "cell_type": "code",
      "source": [
        "def power(num):\n",
        "  if num < 1:\n",
        "    return 1\n",
        "  elif num == 1:\n",
        "    print(1)\n",
        "    return 1\n",
        "  else:\n",
        "    prev = power(num//2)\n",
        "    curr = prev*2\n",
        "    print(curr)\n",
        "    return curr\n",
        "print(power(9))\n"
      ],
      "metadata": {
        "id": "kFIdfL7QRtlB"
      },
      "execution_count": null,
      "outputs": []
    }
  ],
  "metadata": {
    "colab": {
      "name": "Welcome To Colab",
      "toc_visible": true,
      "provenance": [],
      "include_colab_link": true
    },
    "kernelspec": {
      "display_name": "Python 3",
      "name": "python3"
    }
  },
  "nbformat": 4,
  "nbformat_minor": 0
}